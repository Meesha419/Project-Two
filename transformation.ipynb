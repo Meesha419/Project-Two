{
 "cells": [
  {
   "cell_type": "code",
   "execution_count": null,
   "metadata": {},
   "outputs": [],
   "source": [
    "# Import dependencies\n",
    "\n",
    "import pandas as pd\n",
    "import numpy as np\n",
    "from sqlalchemy import create_engine\n",
    "from sqlalchemy import inspect\n",
    "from datetime import date\n",
    "import config\n"
   ]
  },
  {
   "cell_type": "markdown",
   "metadata": {},
   "source": [
    "## Extract CSVs into DataFrames"
   ]
  },
  {
   "cell_type": "code",
   "execution_count": null,
   "metadata": {
    "scrolled": true
   },
   "outputs": [],
   "source": [
    "# CSV file #1\n",
    "# Delete\n",
    "vaccinations_file = \"country_vaccinations.csv\"\n",
    "vaccinations_df = pd.read_csv(vaccinations_file)\n",
    "vaccinations_df"
   ]
  },
  {
   "cell_type": "code",
   "execution_count": null,
   "metadata": {},
   "outputs": [],
   "source": [
    "# CSV file #2\n",
    "\n",
    "covid_data_file = \"worldwide_covid_data.csv\"\n",
    "covid_data_df = pd.read_csv(covid_data_file)\n",
    "covid_data_df\n"
   ]
  },
  {
   "cell_type": "markdown",
   "metadata": {},
   "source": [
    "## Transform vaccinations DataFrame"
   ]
  },
  {
   "cell_type": "code",
   "execution_count": null,
   "metadata": {},
   "outputs": [],
   "source": [
    "# Get data on the latest date\n",
    "\n",
    "latest_date = vaccinations_df['date'].max()\n",
    "latest_date"
   ]
  },
  {
   "cell_type": "code",
   "execution_count": null,
   "metadata": {},
   "outputs": [],
   "source": [
    "# Get data at one timepoint (latest_date) from vaccinations_df\n",
    "\n",
    "filtered_vaccinations_df = vaccinations_df.loc[vaccinations_df['date'] == latest_date]\n",
    "filtered_vaccinations_df"
   ]
  },
  {
   "cell_type": "code",
   "execution_count": null,
   "metadata": {},
   "outputs": [],
   "source": [
    "# Generate a new dataframe selecting 2 columns\n",
    "\n",
    "new_vaccinations_df = filtered_vaccinations_df[[\"country\", \"total_vaccinations\"]].copy()\n",
    "new_vaccinations_df\n"
   ]
  },
  {
   "cell_type": "code",
   "execution_count": null,
   "metadata": {},
   "outputs": [],
   "source": [
    "# Delete NaN values\n",
    "\n",
    "vaccinations = new_vaccinations_df.dropna(how=\"any\")\n",
    "vaccinations\n"
   ]
  },
  {
   "cell_type": "markdown",
   "metadata": {},
   "source": [
    "## Transform covid_data DataFrame"
   ]
  },
  {
   "cell_type": "code",
   "execution_count": null,
   "metadata": {},
   "outputs": [],
   "source": [
    "# Generate a new covid dataframe\n",
    "\n",
    "covid_df = covid_data_df[[\"country\", \"total_cases\", \"total_deaths\", \"population\"]].copy()\n",
    "covid_df"
   ]
  },
  {
   "cell_type": "code",
   "execution_count": null,
   "metadata": {},
   "outputs": [],
   "source": [
    "# Delete NaN values\n",
    "\n",
    "clean_covid_df = covid_df.dropna(how=\"any\")\n",
    "clean_covid_df\n"
   ]
  },
  {
   "cell_type": "markdown",
   "metadata": {},
   "source": [
    "## Create database connection\n"
   ]
  },
  {
   "cell_type": "code",
   "execution_count": null,
   "metadata": {},
   "outputs": [],
   "source": [
    "\n",
    "protocol = 'postgresql'\n",
    "username = config.pg_username\n",
    "password = config.pg_password\n",
    "host = 'localhost'\n",
    "port = 5432\n",
    "database_name = 'covid-19_db'\n",
    "rds_connection_string = f'{protocol}://{username}:{password}@{host}:{port}/{database_name}'\n",
    "engine = create_engine(rds_connection_string)\n",
    "insp = inspect(engine)\n"
   ]
  },
  {
   "cell_type": "code",
   "execution_count": null,
   "metadata": {},
   "outputs": [],
   "source": [
    "# Confirm tables\n",
    "\n",
    "insp.get_table_names()\n"
   ]
  },
  {
   "cell_type": "markdown",
   "metadata": {},
   "source": [
    "## Load DataFrames into database"
   ]
  },
  {
   "cell_type": "code",
   "execution_count": null,
   "metadata": {},
   "outputs": [],
   "source": [
    "\n",
    "vaccinations.to_sql(name='vaccinations', con=engine, if_exists='append', index=False)\n"
   ]
  },
  {
   "cell_type": "code",
   "execution_count": null,
   "metadata": {},
   "outputs": [],
   "source": [
    "\n",
    "clean_covid_df.to_sql(name='covid_data', con=engine, if_exists='append', index=False)\n"
   ]
  },
  {
   "cell_type": "markdown",
   "metadata": {},
   "source": [
    "## Join the tables"
   ]
  },
  {
   "cell_type": "code",
   "execution_count": null,
   "metadata": {},
   "outputs": [],
   "source": [
    "sql_join = r\"\"\"SELECT vaccinations.country, vaccinations.total_vaccinations, \n",
    "    covid_data.country, covid_data.total_cases, covid_data.total_deaths, covid_data.population\n",
    "FROM vaccinations\n",
    "INNER JOIN covid_data\n",
    "ON vaccinations.country = covid_data.country\"\"\"\n",
    "\n",
    "pd.read_sql_query(sql_join, con=engine).head()"
   ]
  },
  {
   "cell_type": "code",
   "execution_count": null,
   "metadata": {},
   "outputs": [],
   "source": []
  }
 ],
 "metadata": {
  "kernelspec": {
   "display_name": "Python 3.6.10 ('PythonData')",
   "language": "python",
   "name": "python3"
  },
  "language_info": {
   "codemirror_mode": {
    "name": "ipython",
    "version": 3
   },
   "file_extension": ".py",
   "mimetype": "text/x-python",
   "name": "python",
   "nbconvert_exporter": "python",
   "pygments_lexer": "ipython3",
   "version": "3.6.10"
  },
  "vscode": {
   "interpreter": {
    "hash": "9dc866ef763a167de353c2a9aef2c928712f353ace9279048de143ef6bfb0ff9"
   }
  }
 },
 "nbformat": 4,
 "nbformat_minor": 2
}
